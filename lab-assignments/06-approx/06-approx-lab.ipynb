{
 "cells": [
  {
   "cell_type": "markdown",
   "metadata": {},
   "source": [
    "# Approx Lab\n",
    "\n",
    "The goal of this lab is to gain experience using approximation algorithms.\n",
    "\n",
    "For the purpose of this assignment, you will be implementing the knapsack problem. Before continuing, the following cell contains any dependencies you may need for this assignment."
   ]
  },
  {
   "cell_type": "code",
   "execution_count": 2,
   "metadata": {},
   "outputs": [],
   "source": [
    "import pandas as pd"
   ]
  },
  {
   "cell_type": "markdown",
   "metadata": {},
   "source": [
    "## Background Info\n",
    "\n",
    "### Knapsack Problem\n",
    "We are actually going to be looking at a specific (hopefully fun) implementation of the knapsack problem.\n",
    "\n",
    "The traditional knapsack problem asks you to pack a set of items, with given weights and values into a \"knapsack\" with a maximum capacity. You cannot pack more items than the capacity of the knapsack. The goal is to select a subset of items that maximize the total value with what can fit in the knapsack. The name \"knapsack\" comes from the similarity to a hiker trying to pack a bag without going over a certain weight.\n",
    "\n",
    "The knapsack problem is an NP-Hard optimization problem, which is why it is one of the classic approximation algorithms.\n",
    "\n",
    "### Specifications for this Lab\n",
    "The variation that we will be doing in this assignment is referred to as an 0/1 knapsack problem, meaning that items must be completely put in the knapsack or they must be left behind (you can't have a fractional portion of an item). We will be representing this as a simple fantasy sports league - specifically Formula 1 drivers. \n",
    "\n",
    "You are provided with a list of F1 drivers and constructors with given costs and points as well as a budget of $100M. You will be selecting five drivers and two constructors (teams). \n",
    "\n",
    "### Scoring Information\n",
    "Points are gained from qualification results for drivers and constructors as well as race results for drivers and constructors. \n",
    "\n",
    "<!-- Qualifications\n",
    "- Drivers score based on their resulting position \n",
    "- Constructor score the combined total of their two drivers in qualifying plus a modifier based on how far both their drivers get. -->\n",
    "<!-- \n",
    "| Drivers    | Points |\n",
    "| -------- | ------- |\n",
    "| Pole Position (1st Place) | 10 |\n",
    "| 2nd Place | 9 |\n",
    "| 3rd Place | 8 |\n",
    "| 4th Place | 7 |\n",
    "| 5th Place | 6 |\n",
    "| 6th Place | 5 |\n",
    "| 7th Place | 4 |\n",
    "| 8th Place | 3 |\n",
    "| 9th Place | 2 |\n",
    "| 10th Place | 1 |\n",
    "| 11th-20th Place | 0 |\n",
    "| No Time Set | 0 |\n",
    "| Disqualification | 0 | -->\n",
    "\n",
    "\n",
    "<!-- | Constructors | Points |\n",
    "| ----------- | ------- |\n",
    "| Neither Driver Reaches Q2 | -1 |\n",
    "| One Driver Reaches Q2 | 1 |\n",
    "| Both Drivers Reach Q2 | 5 |\n",
    "| Both Drivers Reach Q3 | 10 | -->\n",
    "\n",
    "\n",
    "<!-- Race\n",
    "- Drivers score based on their resulting position, position difference from starting order, and some additional bonuses\n",
    "- Constructors score a combined total of their two drivers' results (excluding the Driver of the Day bonus) ~~plus a modifier based on pitstop times~~ -->\n",
    "\n",
    "<!-- | Drivers | Points |\n",
    "| -------- | ------- |\n",
    "| Positions Gained | 1/position |\n",
    "| Positions Lost | -1/position |\n",
    "| Overtakes Made | 1/overtake |\n",
    "| Fastest Lap | 10 |\n",
    "| Driver of the Day | 10 | -->\n",
    "\n",
    "<!-- | Race Result | Points |\n",
    "| -------- | ------- |\n",
    "| 1st Place | 25 |\n",
    "| 2nd Place | 18 |\n",
    "| 3rd Place | 15 |\n",
    "| 4th Place | 12 |\n",
    "| 5th Place | 10 |\n",
    "| 6th Place | 8 |\n",
    "| 7th Place | 6 |\n",
    "| 8th Place | 4 |\n",
    "| 9th Place | 2 |\n",
    "| 10th Place | 1 |\n",
    "| 11th-20th Place | 0 |\n",
    "| DNF | -20 |\n",
    "| Disqualification | -20 | -->\n",
    "\n",
    "Fortunately for you, we have access to the current point standings post-2025 China GP for drivers & constructors, which are available in `drivers.csv` & `constructors.csv`.\n",
    "\n",
    "*Note: The costs are in millions, so 30 is actually 30 M.\n",
    "\n",
    "### Questions (Answered in Various Parts of the Lab): \n",
    "1. What is the general setup of the problem?\n",
    "2. Determining the mathematical functions of the problem\n",
    "3. Implementing a greedy algorithm\n"
   ]
  },
  {
   "cell_type": "markdown",
   "metadata": {},
   "source": [
    "## A. Assessing the Problem"
   ]
  },
  {
   "cell_type": "markdown",
   "metadata": {},
   "source": [
    "The values that are provided for this lab are from the points distribution PRIOR to the Japan Grand Prix (which means we can actually compare with the race results at the submission deadline!)"
   ]
  },
  {
   "cell_type": "markdown",
   "metadata": {},
   "source": [
    "Create a fantasy team https://fantasy.formula1.com/en/create-team for the upcoming Grand Prix to get a better idea of what drivers, constructors, points, and the budget are. Who is on your team & how much did you spend? Don't spend too much time on this, it really is just to get familiar with the format.\n",
    "\n",
    "K. Antonelli  \n",
    "O. Piastri  \n",
    "G. Russel  \n",
    "L. Stroll  \n",
    "Red Bull Racing  \n",
    "$100M  \n",
    "\n",
    "What represents the \"items\" in the knapsack?  \n",
    "The drivers and constructors.  \n",
    "\n",
    "What represents the weights?  \n",
    "Their costs.  \n",
    "\n",
    "What represents the values?  \n",
    "Their points."
   ]
  },
  {
   "cell_type": "code",
   "execution_count": null,
   "metadata": {},
   "outputs": [
    {
     "name": "stdout",
     "output_type": "stream",
     "text": [
      "       Constructor  Points  Cost\n",
      "0          McLaren     172  30.6\n",
      "1         Mercedes     136  23.3\n",
      "2  Red Bull Racing      86  25.4\n",
      "3             Haas      61   8.2\n",
      "4         Williams      36  13.5\n",
      "5     Racing Bulls      32   8.0\n",
      "6      Kick Sauber      15   6.2\n",
      "7          Ferrari      13  27.1\n",
      "8     Aston Martin       5   7.3\n",
      "9           Alpine     -20   8.3\n"
     ]
    }
   ],
   "source": [
    "# Load the data from the CSV files into a format that you are comfortable working with\n",
    "# This can be arrays, dictionaries, or pd DataFrames\n",
    "\n",
    "drivers_df = pd.read_csv('drivers.csv')\n",
    "constructors_df = pd.read_csv('constructors.csv')\n",
    "\n",
    "# Print/Display your data as well to confirm that you have successfully saved it.\n",
    "print(drivers_df)\n",
    "print(constructors_df)"
   ]
  },
  {
   "cell_type": "markdown",
   "metadata": {},
   "source": [
    "# B. Integer Program\n",
    "\n",
    "Before implementing our approx algorithm, we need to first consider the integer program. \n",
    "\n",
    "Given the following variables, create an integer program that maximizes the total points of drivers while remaining under the budget: \n",
    "- $x_i$ is the decision variable that determines whether driver $i$ is included in the team or not\n",
    "- $p_i$ is the # of points that driver $i$ is worth\n",
    "- $c_i$ is the cost of driver $i$\n",
    "\n",
    "For now, we will focus on just the drivers and ignore the constructors. We will also temporarily reduce our budget to **$50M**\n",
    "\n",
    "While we are not planning on implementing the full integer program, it helps us quantify parts of the problem"
   ]
  },
  {
   "cell_type": "markdown",
   "metadata": {},
   "source": [
    "\n",
    "$\\text{maximize} \\quad \\sum_{i=1}^{n} x_i * p_i $  \\\n",
    "$\\text{subject to} \\quad \\sum_{i=1}^{n} x_i * c_i \\le 50M $ \n"
   ]
  },
  {
   "cell_type": "markdown",
   "metadata": {},
   "source": [
    "## Decision Variable & Constraints\n",
    "\n",
    "We can make helper functions for our future algorithm based on constraints that we derive when forming the IP: \n",
    "1. Which drivers should be included in our solution? \n",
    "2. What is our maximum cost?\n",
    "3. What is our maximum # of drivers? "
   ]
  },
  {
   "cell_type": "code",
   "execution_count": 12,
   "metadata": {},
   "outputs": [],
   "source": [
    "budget = 50 # in millions\n",
    "\n",
    "def constraints(max_cost, max_drivers, curr_cost, new_cost, num_drivers):\n",
    "    # returns True if the constraints are violated\n",
    "    return curr_cost+new_cost > max_cost or num_drivers+1 > max_drivers"
   ]
  },
  {
   "cell_type": "markdown",
   "metadata": {},
   "source": [
    "# C. Greedy Algorithm\n"
   ]
  },
  {
   "cell_type": "markdown",
   "metadata": {},
   "source": [
    "There are multiple ways we can go about solving the knapsack problem. For this lab, we will be focusing on a greedy algorithm and a variant of that.\n",
    "\n",
    "Let's start with a basic greedy algorithm:\n",
    "1. Calculate the value-to-cost ratio for each driver \n",
    "2. Sort drivers in non-increasing order of value-to-cost\n",
    "2. Greedily select drivers from list until either budget or max drivers constraint is hit\n",
    "\n",
    "Use the helper methods from the previous part in your implementation."
   ]
  },
  {
   "cell_type": "code",
   "execution_count": 20,
   "metadata": {},
   "outputs": [
    {
     "name": "stdout",
     "output_type": "stream",
     "text": [
      "[(6, 'Esteban Ocon'), (5, 'Lance Stroll'), (0, 'Lando Norris')]\n",
      "Total cost: 47.0, Number of drivers: 3, Points: 165\n"
     ]
    }
   ],
   "source": [
    "def value_to_cost(items):\n",
    "    items = items.copy()\n",
    "    items[\"Ratio\"] = items[\"Points\"] / items[\"Cost\"]\n",
    "    return items\n",
    "\n",
    "def sort_items(items): \n",
    "    items_sorted = items.sort_values(by=\"Ratio\", ascending=False)\n",
    "    return items_sorted\n",
    "\n",
    "def greedy_driver_select(drivers_df):\n",
    "    drivers = sort_items(value_to_cost(drivers_df))\n",
    "    cost = 0\n",
    "    num_drivers = 0\n",
    "    drivers_list = []\n",
    "\n",
    "    for i, driver in drivers.iterrows():\n",
    "        if constraints(50, 5, cost, driver[\"Cost\"], num_drivers):\n",
    "            continue\n",
    "        else:\n",
    "            cost += driver[\"Cost\"]\n",
    "            num_drivers += 1\n",
    "            drivers_list.append((i, driver[\"Driver\"]))\n",
    "\n",
    "    return drivers_list, cost, num_drivers, total_points\n",
    "\n",
    "\n",
    "drivers_list, total_cost, num_drivers, total_points = greedy_driver_select(drivers_df)\n",
    "print(drivers_list)\n",
    "print(f\"Total cost: {total_cost}, Number of drivers: {num_drivers}, Points: {total_points}\")"
   ]
  },
  {
   "cell_type": "markdown",
   "metadata": {},
   "source": [
    "Try running your basic greedy algorithm. \n",
    "\n",
    "You may notice a few flaws:\n",
    "1. The greedy algorithm is only looking at value-to-cost ratio, which may miss out on an overall improvement in value that still fits within the budget\n",
    "2. Depending on your implementation, you may not currently be meeting the \"5 total drivers\" constraint - this is fine"
   ]
  },
  {
   "cell_type": "markdown",
   "metadata": {},
   "source": [
    "\n",
    "## Redux Greedy Algorithm\n",
    "We are going to next implement a small adjustment to this algorithm in order to improve its performance. \\\n",
    "This is a 2-approximation for the knapsack problem. \n",
    "\n",
    "1. Calculate the value-to-cost ratio for each driver\n",
    "2. Sort drivers in non-increasing order of value-to-cost\n",
    "3. Greedily add items until we hit an item that is too big\n",
    "4. Compare the too big item against the already existing list of items & pick the better of the two\n",
    "\n",
    "It might help to make a separate function to handle #4. "
   ]
  },
  {
   "cell_type": "code",
   "execution_count": null,
   "metadata": {},
   "outputs": [
    {
     "name": "stdout",
     "output_type": "stream",
     "text": [
      "[(6, 'Esteban Ocon'), (5, 'Lance Stroll'), (0, 'Lando Norris')]\n",
      "Total cost: 47.0, Number of drivers: 3, Points: 165\n"
     ]
    }
   ],
   "source": [
    "def compare(drivers, drivers_list, new_driver, total_points, cost, budget):\n",
    "    best_swap = None\n",
    "    best_score = total_points\n",
    "\n",
    "    new_cost = new_driver['Cost']\n",
    "    new_points = new_driver['Points']\n",
    "\n",
    "    for j, (old_idx, _) in enumerate(drivers_list):\n",
    "        old_driver = drivers.loc[old_idx]\n",
    "        temp_cost = cost - old_driver['Cost'] + new_cost\n",
    "\n",
    "        if temp_cost <= budget:\n",
    "            temp_points = total_points - old_driver['Points'] + new_points\n",
    "            if temp_points > best_score:\n",
    "                best_score = temp_points\n",
    "                best_swap = (j, old_idx, best_score)\n",
    "\n",
    "    return best_swap\n",
    "\n",
    "def redux_greedy_driver_select(drivers_df):\n",
    "    drivers = sort_items(value_to_cost(drivers_df))\n",
    "    budget = 50\n",
    "    max_drivers = 5\n",
    "\n",
    "    cost = 0\n",
    "    num_drivers = 0\n",
    "    total_points = 0\n",
    "    drivers_list = []\n",
    "\n",
    "    for i, driver in drivers.iterrows():\n",
    "        driver_cost = driver[\"Cost\"]\n",
    "        driver_points = driver[\"Points\"]\n",
    "        driver_name = driver[\"Driver\"]\n",
    "\n",
    "        if constraints(budget, max_drivers, cost, driver_cost, num_drivers):\n",
    "            swap = compare(drivers, drivers_list, driver, total_points, cost, budget)\n",
    "            if swap:\n",
    "                j, old_idx, new_score = swap\n",
    "                old_driver = drivers.loc[old_idx]\n",
    "                cost = cost - old_driver[\"Cost\"] + driver_cost\n",
    "                total_points = new_score\n",
    "                drivers_list[j] = (i, driver_name)\n",
    "        else:\n",
    "            cost += driver_cost\n",
    "            num_drivers += 1\n",
    "            total_points += driver_points\n",
    "            drivers_list.append((i, driver_name))\n",
    "\n",
    "    return drivers_list, cost, num_drivers, total_points\n",
    "\n",
    "\n",
    "drivers_list, total_cost, num_drivers, total_points = redux_greedy_driver_select(drivers_df)\n",
    "print(drivers_list)\n",
    "print(f\"Total cost: {total_cost}, Number of drivers: {num_drivers}, Points: {total_points}\")\n"
   ]
  },
  {
   "cell_type": "markdown",
   "metadata": {},
   "source": [
    "# D. Reintroducing Constructors\n",
    "\n",
    "We've been neglecting our constructors so far and cutting our budget. Let's make them feel included in our processes again. \n",
    "\n",
    "## Integer Program\n",
    "\n",
    "We should start by redefining our original IP to see what constraints we need to add. \\\n",
    "We've added some more variables to our IP: \n",
    "- $x_j$ is the decision variable that determines whether constructor $j$ is included in the team or not \n",
    "- $p_j$ is the # of points that constructor $j$ is worth\n",
    "- $c_j$ is the cost of constructor $j$\n",
    "\n",
    "Our budget has also been increased back to **100M**. "
   ]
  },
  {
   "cell_type": "markdown",
   "metadata": {},
   "source": [
    "$\\text{maximize} \\quad \\sum_{i,j=1}^{n} x_i * p_i + x_j * p_j$  \\\n",
    "$\\text{subject to} \\quad \\sum_{i,j=1}^{n} x_i * c_i + x_j * c_j \\le 100M $ \n",
    "\n"
   ]
  },
  {
   "cell_type": "markdown",
   "metadata": {},
   "source": [
    "## Constraints \n",
    "\n",
    "To redefine our greedy algorithm to include constructors, we have to also write helpers that correspond to our new constraints."
   ]
  },
  {
   "cell_type": "code",
   "execution_count": null,
   "metadata": {},
   "outputs": [],
   "source": [
    "budget = 100 # in millions\n",
    "\n",
    "def constraints(budget, max_drivers, curr_cost, new_cost, num_drivers, item_type):\n",
    "    if curr_cost + new_cost > budget:\n",
    "        return False\n",
    "    if item_type == \"driver\" and num_drivers >= max_drivers:\n",
    "        return False\n",
    "    return True\n"
   ]
  },
  {
   "cell_type": "markdown",
   "metadata": {},
   "source": [
    "## Greedy Algorithm\n",
    "\n",
    "Update the greedy algorithm to calculate for buying both constructors and drivers. \\\n",
    "Remember, your list of non-increasing value-to-cost ratios should be a combination of both drivers & constructors. "
   ]
  },
  {
   "cell_type": "code",
   "execution_count": 27,
   "metadata": {},
   "outputs": [
    {
     "name": "stdout",
     "output_type": "stream",
     "text": [
      "constructor: Haas (Cost: 8.2, Points: 61)\n",
      "constructor: Mercedes (Cost: 23.3, Points: 136)\n",
      "constructor: McLaren (Cost: 30.6, Points: 172)\n",
      "constructor: Racing Bulls (Cost: 8.0, Points: 32)\n",
      "driver: Esteban Ocon (Cost: 8.1, Points: 32)\n",
      "driver: Lance Stroll (Cost: 9.3, Points: 33)\n",
      "driver: Oliver Bearman (Cost: 6.7, Points: 22)\n",
      "driver: Isack Hadjar (Cost: 5.0, Points: -9)\n",
      "cost: 99.19999999999999, points: 479\n"
     ]
    }
   ],
   "source": [
    "def greedy_f1(drivers, constructors):\n",
    "    drivers[\"Type\"] = \"driver\"\n",
    "    drivers[\"Name\"] = drivers_df[\"Driver\"]\n",
    "\n",
    "    constructors[\"Type\"] = \"constructor\"\n",
    "    constructors[\"Name\"] = constructors[\"Constructor\"]\n",
    "\n",
    "    combined_df = pd.concat([drivers, constructors], ignore_index=True)\n",
    "    combined_df = sort_items(value_to_cost(combined_df))\n",
    "\n",
    "    budget = 100\n",
    "    total_cost = 0\n",
    "    total_points = 0\n",
    "    team = []\n",
    "    num_drivers = 0\n",
    "    max_drivers = 5\n",
    "\n",
    "    for i, item in combined_df.iterrows():\n",
    "        item_cost = item[\"Cost\"]\n",
    "        item_points = item[\"Points\"]\n",
    "        item_type = item[\"Type\"]\n",
    "        item_name = item[\"Name\"]\n",
    "\n",
    "        if constraints(budget, max_drivers, total_cost, item_cost, num_drivers, item_type):\n",
    "            team.append({\n",
    "                \"Type\": item_type,\n",
    "                \"Name\": item_name,\n",
    "                \"Cost\": item_cost,\n",
    "                \"Points\": item_points\n",
    "            })\n",
    "            total_cost += item_cost\n",
    "            total_points += item_points\n",
    "            if item_type == \"driver\":\n",
    "                num_drivers += 1\n",
    "\n",
    "    return team, total_cost, total_points\n",
    "\n",
    "drivers_df = pd.read_csv('drivers.csv')\n",
    "constructors_df = pd.read_csv('constructors.csv')\n",
    "\n",
    "team, total_cost, total_points = greedy_f1(drivers_df, constructors_df)\n",
    "\n",
    "for member in team:\n",
    "    print(f\"{member['Type']}: {member['Name']} (Cost: {member['Cost']}, Points: {member['Points']})\")\n",
    "print(f\"cost: {total_cost}, points: {total_points}\")"
   ]
  }
 ],
 "metadata": {
  "kernelspec": {
   "display_name": "Python 3",
   "language": "python",
   "name": "python3"
  },
  "language_info": {
   "codemirror_mode": {
    "name": "ipython",
    "version": 3
   },
   "file_extension": ".py",
   "mimetype": "text/x-python",
   "name": "python",
   "nbconvert_exporter": "python",
   "pygments_lexer": "ipython3",
   "version": "3.10.12"
  }
 },
 "nbformat": 4,
 "nbformat_minor": 2
}
