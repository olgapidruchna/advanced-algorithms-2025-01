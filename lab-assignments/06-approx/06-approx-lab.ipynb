{
 "cells": [
  {
   "cell_type": "markdown",
   "metadata": {},
   "source": [
    "# Approx Lab\n",
    "\n",
    "The goal of this lab is to gain experience using approximation algorithms.\n",
    "\n",
    "For the purpose of this assignment, you will be implementing the knapsack problem. Before continuing, the following cell contains any dependencies you may need for this assignment."
   ]
  },
  {
   "cell_type": "code",
   "execution_count": 1,
   "metadata": {},
   "outputs": [],
   "source": [
    "import pandas as pd"
   ]
  },
  {
   "cell_type": "markdown",
   "metadata": {},
   "source": [
    "## Background Info\n",
    "\n",
    "### Knapsack Problem\n",
    "We are actually going to be looking at a specific (hopefully fun) implementation of the knapsack problem.\n",
    "\n",
    "The traditional knapsack problem asks you to pack a set of items, with given weights and values into a \"knapsack\" with a maximum capacity. You cannot pack more items than the capacity of the knapsack. The goal is to select a subset of items that maximize the total value with what can fit in the knapsack. The name \"knapsack\" comes from the similarity to a hiker trying to pack a bag without going over a certain weight.\n",
    "\n",
    "The knapsack problem is an NP-Hard optimization problem, which is why it is one of the classic approximation algorithms.\n",
    "\n",
    "### Specifications for this Lab\n",
    "The variation that we will be doing in this assignment is referred to as an 0/1 knapsack problem, meaning that items must be completely put in the knapsack or they must be left behind (you can't have a fractional portion of an item). We will be representing this as a simple fantasy sports league - specifically Formula 1 drivers. \n",
    "\n",
    "You are provided with a list of F1 drivers and constructors with given costs and points as well as a budget of $100M. You will be selecting five drivers and two constructors (teams). \n",
    "\n",
    "### Scoring Information\n",
    "Points are gained from qualification results for drivers and constructors as well as race results for drivers and constructors. \n",
    "\n",
    "<!-- Qualifications\n",
    "- Drivers score based on their resulting position \n",
    "- Constructor score the combined total of their two drivers in qualifying plus a modifier based on how far both their drivers get. -->\n",
    "<!-- \n",
    "| Drivers    | Points |\n",
    "| -------- | ------- |\n",
    "| Pole Position (1st Place) | 10 |\n",
    "| 2nd Place | 9 |\n",
    "| 3rd Place | 8 |\n",
    "| 4th Place | 7 |\n",
    "| 5th Place | 6 |\n",
    "| 6th Place | 5 |\n",
    "| 7th Place | 4 |\n",
    "| 8th Place | 3 |\n",
    "| 9th Place | 2 |\n",
    "| 10th Place | 1 |\n",
    "| 11th-20th Place | 0 |\n",
    "| No Time Set | 0 |\n",
    "| Disqualification | 0 | -->\n",
    "\n",
    "\n",
    "<!-- | Constructors | Points |\n",
    "| ----------- | ------- |\n",
    "| Neither Driver Reaches Q2 | -1 |\n",
    "| One Driver Reaches Q2 | 1 |\n",
    "| Both Drivers Reach Q2 | 5 |\n",
    "| Both Drivers Reach Q3 | 10 | -->\n",
    "\n",
    "\n",
    "<!-- Race\n",
    "- Drivers score based on their resulting position, position difference from starting order, and some additional bonuses\n",
    "- Constructors score a combined total of their two drivers' results (excluding the Driver of the Day bonus) ~~plus a modifier based on pitstop times~~ -->\n",
    "\n",
    "<!-- | Drivers | Points |\n",
    "| -------- | ------- |\n",
    "| Positions Gained | 1/position |\n",
    "| Positions Lost | -1/position |\n",
    "| Overtakes Made | 1/overtake |\n",
    "| Fastest Lap | 10 |\n",
    "| Driver of the Day | 10 | -->\n",
    "\n",
    "<!-- | Race Result | Points |\n",
    "| -------- | ------- |\n",
    "| 1st Place | 25 |\n",
    "| 2nd Place | 18 |\n",
    "| 3rd Place | 15 |\n",
    "| 4th Place | 12 |\n",
    "| 5th Place | 10 |\n",
    "| 6th Place | 8 |\n",
    "| 7th Place | 6 |\n",
    "| 8th Place | 4 |\n",
    "| 9th Place | 2 |\n",
    "| 10th Place | 1 |\n",
    "| 11th-20th Place | 0 |\n",
    "| DNF | -20 |\n",
    "| Disqualification | -20 | -->\n",
    "\n",
    "Fortunately for you, we have access to the current point standings post-2025 China GP for drivers & constructors, which are available in `drivers.csv` & `constructors.csv`.\n",
    "\n",
    "*Note: The costs are in millions, so 30 is actually 30 M.\n",
    "\n",
    "### Questions (Answered in Various Parts of the Lab): \n",
    "1. What is the general setup of the problem?\n",
    "2. Determining the mathematical functions of the problem\n",
    "3. Implementing a greedy algorithm\n"
   ]
  },
  {
   "cell_type": "markdown",
   "metadata": {},
   "source": [
    "## A. Assessing the Problem"
   ]
  },
  {
   "cell_type": "markdown",
   "metadata": {},
   "source": [
    "The values that are provided for this lab are from the points distribution PRIOR to the Japan Grand Prix (which means we can actually compare with the race results at the submission deadline!)"
   ]
  },
  {
   "cell_type": "markdown",
   "metadata": {},
   "source": [
    "Create a fantasy team https://fantasy.formula1.com/en/create-team for the upcoming Grand Prix to get a better idea of what drivers, constructors, points, and the budget are. Who is on your team & how much did you spend? Don't spend too much time on this, it really is just to get familiar with the format.\n",
    "\n",
    "K. Antonelli  \n",
    "O. Piastri  \n",
    "G. Russel  \n",
    "L. Stroll  \n",
    "Red Bull Racing  \n",
    "$100M  \n",
    "\n",
    "What represents the \"items\" in the knapsack?  \n",
    "The drivers and constructors.  \n",
    "\n",
    "What represents the weights?  \n",
    "Their costs.  \n",
    "\n",
    "What represents the values?  \n",
    "Their points."
   ]
  },
  {
   "cell_type": "code",
   "execution_count": 19,
   "metadata": {},
   "outputs": [
    {
     "name": "stdout",
     "output_type": "stream",
     "text": [
      "                   Driver  Points  Cost\n",
      "0            Lando Norris     100  29.6\n",
      "1   Andrea Kimi Antonelli      61  19.3\n",
      "2          George Russell      60  21.4\n",
      "3          Max Verstappen      59  28.6\n",
      "4           Oscar Piastri      55  23.0\n",
      "5            Lance Stroll      33   9.3\n",
      "6            Esteban Ocon      32   8.1\n",
      "7          Alexaner Albon      28  12.8\n",
      "8         Nico Hulkenberg      22   7.6\n",
      "9          Oliver Bearman      22   6.7\n",
      "10         Lewis Hamilton       3  23.6\n",
      "11           Yuki Tsunoda       0  16.8\n",
      "12            Liam Lawson       0   8.4\n",
      "13        Charles LeClerc       0  25.3\n",
      "14           Pierre Gasly      -7  10.6\n",
      "15           Isack Hadjar      -9   5.0\n",
      "16            Jack Doohan      -9   6.0\n",
      "17           Carlos Sainz     -11  11.9\n",
      "18      Gabriel Bortoleto     -11   4.8\n",
      "19        Fernando Alonso     -36   7.6\n",
      "       Constructor  Points  Cost\n",
      "0          McLaren     172  30.6\n",
      "1         Mercedes     136  23.3\n",
      "2  Red Bull Racing      86  25.4\n",
      "3             Haas      61   8.2\n",
      "4         Williams      36  13.5\n",
      "5     Racing Bulls      32   8.0\n",
      "6      Kick Sauber      15   6.2\n",
      "7          Ferrari      13  27.1\n",
      "8     Aston Martin       5   7.3\n",
      "9           Alpine     -20   8.3\n"
     ]
    }
   ],
   "source": [
    "# Load the data from the CSV files into a format that you are comfortable working with\n",
    "# This can be arrays, dictionaries, or pd DataFrames\n",
    "\n",
    "drivers_df = pd.read_csv('drivers.csv')\n",
    "constructors_df = pd.read_csv('constructors.csv')\n",
    "\n",
    "# Print/Display your data as well to confirm that you have successfully saved it.\n",
    "print(drivers_df)\n",
    "print(constructors_df)"
   ]
  },
  {
   "cell_type": "markdown",
   "metadata": {},
   "source": [
    "# B. Integer Program\n",
    "\n",
    "Before implementing our approx algorithm, we need to first consider the integer program. \n",
    "\n",
    "Given the following variables, create an integer program that maximizes the total points of drivers while remaining under the budget: \n",
    "- $x_i$ is the decision variable that determines whether driver $i$ is included in the team or not\n",
    "- $p_i$ is the # of points that driver $i$ is worth\n",
    "- $c_i$ is the cost of driver $i$\n",
    "\n",
    "For now, we will focus on just the drivers and ignore the constructors. We will also temporarily reduce our budget to **$50M**\n",
    "\n",
    "While we are not planning on implementing the full integer program, it helps us quantify parts of the problem"
   ]
  },
  {
   "cell_type": "markdown",
   "metadata": {},
   "source": [
    "\n",
    "$\\text{maximize} \\quad \\sum_{i=1}^{n} x_i * p_i $  \\\n",
    "$\\text{subject to} \\quad \\sum_{i=1}^{n} x_i * c_i \\le 50M $ \n"
   ]
  },
  {
   "cell_type": "markdown",
   "metadata": {},
   "source": [
    "## Decision Variable & Constraints\n",
    "\n",
    "We can make helper functions for our future algorithm based on constraints that we derive when forming the IP: \n",
    "1. Which drivers should be included in our solution? \n",
    "2. What is our maximum cost?\n",
    "3. What is our maximum # of drivers? "
   ]
  },
  {
   "cell_type": "code",
   "execution_count": 20,
   "metadata": {},
   "outputs": [],
   "source": [
    "budget = 50 # in millions\n",
    "\n",
    "def constraints(max_cost, max_drivers, curr_cost, new_cost, num_drivers):\n",
    "    # I don't know if this is what you guys were asking for.\n",
    "    # This function returns True if the constraints are satisfied and False \n",
    "    # otherwise.\n",
    "\n",
    "    return curr_cost+new_cost > max_cost or num_drivers+1 > max_drivers"
   ]
  },
  {
   "cell_type": "markdown",
   "metadata": {},
   "source": [
    "# C. Greedy Algorithm\n"
   ]
  },
  {
   "cell_type": "markdown",
   "metadata": {},
   "source": [
    "There are multiple ways we can go about solving the knapsack problem. For this lab, we will be focusing on a greedy algorithm and a variant of that.\n",
    "\n",
    "Let's start with a basic greedy algorithm:\n",
    "1. Calculate the value-to-cost ratio for each driver \n",
    "2. Sort drivers in non-increasing order of value-to-cost\n",
    "2. Greedily select drivers from list until either budget or max drivers constraint is hit\n",
    "\n",
    "Use the helper methods from the previous part in your implementation."
   ]
  },
  {
   "cell_type": "code",
   "execution_count": 24,
   "metadata": {},
   "outputs": [
    {
     "name": "stdout",
     "output_type": "stream",
     "text": [
      "                   Driver  Points  Cost     Ratio  Included\n",
      "6            Esteban Ocon      32   8.1  3.950617      True\n",
      "5            Lance Stroll      33   9.3  3.548387      True\n",
      "0            Lando Norris     100  29.6  3.378378      True\n",
      "9          Oliver Bearman      22   6.7  3.283582     False\n",
      "1   Andrea Kimi Antonelli      61  19.3  3.160622     False\n",
      "8         Nico Hulkenberg      22   7.6  2.894737     False\n",
      "2          George Russell      60  21.4  2.803738     False\n",
      "4           Oscar Piastri      55  23.0  2.391304     False\n",
      "7          Alexaner Albon      28  12.8  2.187500     False\n",
      "3          Max Verstappen      59  28.6  2.062937     False\n",
      "10         Lewis Hamilton       3  23.6  0.127119     False\n",
      "11           Yuki Tsunoda       0  16.8  0.000000     False\n",
      "12            Liam Lawson       0   8.4  0.000000     False\n",
      "13        Charles LeClerc       0  25.3  0.000000     False\n",
      "14           Pierre Gasly      -7  10.6 -0.660377     False\n",
      "17           Carlos Sainz     -11  11.9 -0.924370     False\n",
      "16            Jack Doohan      -9   6.0 -1.500000     False\n",
      "15           Isack Hadjar      -9   5.0 -1.800000     False\n",
      "18      Gabriel Bortoleto     -11   4.8 -2.291667     False\n",
      "19        Fernando Alonso     -36   7.6 -4.736842     False\n"
     ]
    }
   ],
   "source": [
    "def value_to_cost(items):\n",
    "    items = items.copy()\n",
    "    items[\"Ratio\"] = items[\"Points\"] / items[\"Cost\"]\n",
    "    return items\n",
    "\n",
    "def sort_items(items): \n",
    "    items_sorted = items.sort_values(by=\"Ratio\", ascending=False)\n",
    "    return items_sorted\n",
    "\n",
    "def greedy_driver_select(drivers_df):\n",
    "    drivers = sort_items(value_to_cost(drivers_df))\n",
    "    cost = 0\n",
    "    num_drivers = 0\n",
    "    # drivers_list = []\n",
    "    drivers['Included'] = False\n",
    "\n",
    "    for i, driver in drivers.iterrows():\n",
    "        # if cost+driver[\"Cost\"] > 50 or num_drivers+1 > 5:\n",
    "        if constraints(50, 5, cost, driver[\"Cost\"], num_drivers):\n",
    "            continue\n",
    "        else:\n",
    "            cost += driver[\"Cost\"]\n",
    "            num_drivers += 1\n",
    "            # drivers_list.append(driver[\"Driver\"])\n",
    "            drivers.at[i, 'Included'] = True\n",
    "    return drivers\n",
    "\n",
    "\n",
    "drivers_result = greedy_driver_select(drivers_df)\n",
    "print(drivers_result)"
   ]
  },
  {
   "cell_type": "markdown",
   "metadata": {},
   "source": [
    "Try running your basic greedy algorithm. \n",
    "\n",
    "You may notice a few flaws:\n",
    "1. The greedy algorithm is only looking at value-to-cost ratio, which may miss out on an overall improvement in value that still fits within the budget\n",
    "2. Depending on your implementation, you may not currently be meeting the \"5 total drivers\" constraint - this is fine"
   ]
  },
  {
   "cell_type": "markdown",
   "metadata": {},
   "source": [
    "\n",
    "## Redux Greedy Algorithm\n",
    "We are going to next implement a small adjustment to this algorithm in order to improve its performance. \\\n",
    "This is a 2-approximation for the knapsack problem. \n",
    "\n",
    "1. Calculate the value-to-cost ratio for each driver\n",
    "2. Sort drivers in non-increasing order of value-to-cost\n",
    "3. Greedily add items until we hit an item that is too big\n",
    "4. Compare the too big item against the already existing list of items & pick the better of the two\n",
    "\n",
    "It might help to make a separate function to handle #4. "
   ]
  },
  {
   "cell_type": "code",
   "execution_count": null,
   "metadata": {},
   "outputs": [
    {
     "ename": "ValueError",
     "evalue": "too many values to unpack (expected 2)",
     "output_type": "error",
     "traceback": [
      "\u001b[0;31m---------------------------------------------------------------------------\u001b[0m",
      "\u001b[0;31mValueError\u001b[0m                                Traceback (most recent call last)",
      "Cell \u001b[0;32mIn[14], line 65\u001b[0m\n\u001b[1;32m     61\u001b[0m             \u001b[38;5;66;03m# drivers['Included'][i] = True\u001b[39;00m\n\u001b[1;32m     62\u001b[0m     \u001b[38;5;28;01mreturn\u001b[39;00m drivers\n\u001b[0;32m---> 65\u001b[0m \u001b[38;5;28mprint\u001b[39m(\u001b[43mredux_greedy_driver_select\u001b[49m\u001b[43m(\u001b[49m\u001b[43mdrivers_df\u001b[49m\u001b[43m)\u001b[49m)\n",
      "Cell \u001b[0;32mIn[14], line 48\u001b[0m, in \u001b[0;36mredux_greedy_driver_select\u001b[0;34m(drivers_df)\u001b[0m\n\u001b[1;32m     45\u001b[0m driver_name \u001b[38;5;241m=\u001b[39m driver[\u001b[38;5;124m\"\u001b[39m\u001b[38;5;124mDriver\u001b[39m\u001b[38;5;124m\"\u001b[39m]\n\u001b[1;32m     47\u001b[0m \u001b[38;5;28;01mif\u001b[39;00m constraints(\u001b[38;5;241m50\u001b[39m, \u001b[38;5;241m5\u001b[39m, cost, driver[\u001b[38;5;124m\"\u001b[39m\u001b[38;5;124mCost\u001b[39m\u001b[38;5;124m\"\u001b[39m], num_drivers):\n\u001b[0;32m---> 48\u001b[0m     swap \u001b[38;5;241m=\u001b[39m \u001b[43mcompare\u001b[49m\u001b[43m(\u001b[49m\u001b[43mdrivers\u001b[49m\u001b[43m,\u001b[49m\u001b[43m \u001b[49m\u001b[43mdrivers_list\u001b[49m\u001b[43m,\u001b[49m\u001b[43m \u001b[49m\u001b[43mdriver\u001b[49m\u001b[43m,\u001b[49m\u001b[43m \u001b[49m\u001b[43mtotal_points\u001b[49m\u001b[43m,\u001b[49m\u001b[43m \u001b[49m\u001b[43mcost\u001b[49m\u001b[43m)\u001b[49m\n\u001b[1;32m     49\u001b[0m     \u001b[38;5;28;01mif\u001b[39;00m swap:\n\u001b[1;32m     50\u001b[0m         j, old_idx, new_score \u001b[38;5;241m=\u001b[39m swap\n",
      "Cell \u001b[0;32mIn[14], line 22\u001b[0m, in \u001b[0;36mcompare\u001b[0;34m(drivers, drivers_list, new_driver, total_points, cost, budget, max_drivers)\u001b[0m\n\u001b[1;32m     19\u001b[0m new_cost \u001b[38;5;241m=\u001b[39m new_driver[\u001b[38;5;124m'\u001b[39m\u001b[38;5;124mCost\u001b[39m\u001b[38;5;124m'\u001b[39m]\n\u001b[1;32m     20\u001b[0m new_points \u001b[38;5;241m=\u001b[39m new_driver[\u001b[38;5;124m'\u001b[39m\u001b[38;5;124mPoints\u001b[39m\u001b[38;5;124m'\u001b[39m]\n\u001b[0;32m---> 22\u001b[0m \u001b[38;5;28;01mfor\u001b[39;00m j, (old_idx, _) \u001b[38;5;129;01min\u001b[39;00m \u001b[38;5;28menumerate\u001b[39m(drivers_list):\n\u001b[1;32m     23\u001b[0m     old_driver \u001b[38;5;241m=\u001b[39m drivers\u001b[38;5;241m.\u001b[39mloc[old_idx]\n\u001b[1;32m     24\u001b[0m     temp_cost \u001b[38;5;241m=\u001b[39m cost \u001b[38;5;241m-\u001b[39m old_driver[\u001b[38;5;124m'\u001b[39m\u001b[38;5;124mCost\u001b[39m\u001b[38;5;124m'\u001b[39m] \u001b[38;5;241m+\u001b[39m new_cost\n",
      "\u001b[0;31mValueError\u001b[0m: too many values to unpack (expected 2)"
     ]
    }
   ],
   "source": [
    "def compare(drivers, drivers_list, new_driver, total_points, cost, budget=50, max_drivers=5):\n",
    "    best_swap = None\n",
    "    best_score = total_points\n",
    "\n",
    "    new_cost = new_driver['Cost']\n",
    "    new_points = new_driver['Points']\n",
    "\n",
    "    for j, (old_idx, _) in enumerate(drivers_list):\n",
    "        old_driver = drivers.loc[old_idx]\n",
    "        temp_cost = cost - old_driver['Cost'] + new_cost\n",
    "\n",
    "        if temp_cost <= budget:\n",
    "            temp_points = total_points - old_driver['Points'] + new_points\n",
    "            if temp_points > best_score:\n",
    "                best_score = temp_points\n",
    "                best_swap = (j, old_idx, best_score)\n",
    "    return best_swap\n",
    "        \n",
    "\n",
    "def redux_greedy_driver_select(drivers_df):\n",
    "    drivers = sort_items(value_to_cost(drivers_df))\n",
    "\n",
    "    cost = 0\n",
    "    num_drivers = 0\n",
    "    total_points = 0\n",
    "    drivers_list = []\n",
    "\n",
    "    for i, driver in drivers.iterrows():\n",
    "        driver_cost = driver[\"Cost\"]\n",
    "        driver_points = driver[\"Points\"]\n",
    "        driver_name = driver[\"Driver\"]\n",
    "\n",
    "        if constraints(50, 5, cost, driver[\"Cost\"], num_drivers):\n",
    "            swap = compare(drivers, drivers_list, driver, total_points, cost)\n",
    "            if swap:\n",
    "                j, old_idx, new_score = swap\n",
    "                cost = cost - drivers.at[old_idx, \"Cost\"] + driver_cost\n",
    "                total_points = new_score\n",
    "                drivers_list[j] = (i, driver_name)\n",
    "        else:\n",
    "            cost += driver_cost\n",
    "            num_drivers += 1\n",
    "            total_points += driver_points\n",
    "            drivers_list.append(driver[\"Driver\"])\n",
    "    return drivers\n",
    "\n",
    "\n",
    "print(redux_greedy_driver_select(drivers_df))"
   ]
  },
  {
   "cell_type": "code",
   "execution_count": 17,
   "metadata": {},
   "outputs": [
    {
     "name": "stdout",
     "output_type": "stream",
     "text": [
      "[(6, 'Esteban Ocon'), (5, 'Lance Stroll'), (0, 'Lando Norris')]\n",
      "Total cost: 47.0, Number of drivers: 3, Points: 165\n"
     ]
    }
   ],
   "source": [
    "def compare(drivers, drivers_list, new_driver, total_points, cost, budget=50, max_drivers=5):\n",
    "    best_swap = None\n",
    "    best_score = total_points\n",
    "\n",
    "    new_cost = new_driver['Cost']\n",
    "    new_points = new_driver['Points']\n",
    "\n",
    "    for j, (old_idx, _) in enumerate(drivers_list):\n",
    "        old_driver = drivers.loc[old_idx]\n",
    "        temp_cost = cost - old_driver['Cost'] + new_cost\n",
    "\n",
    "        if temp_cost <= budget:\n",
    "            temp_points = total_points - old_driver['Points'] + new_points\n",
    "            if temp_points > best_score:\n",
    "                best_score = temp_points\n",
    "                best_swap = (j, old_idx, best_score)\n",
    "\n",
    "    return best_swap\n",
    "\n",
    "def redux_greedy_driver_select(drivers_df):\n",
    "    drivers = sort_items(value_to_cost(drivers_df.copy()))\n",
    "\n",
    "    cost = 0\n",
    "    num_drivers = 0\n",
    "    total_points = 0\n",
    "    drivers_list = []\n",
    "\n",
    "    for i, driver in drivers.iterrows():\n",
    "        driver_cost = driver[\"Cost\"]\n",
    "        driver_points = driver[\"Points\"]\n",
    "        driver_name = driver[\"Driver\"]\n",
    "\n",
    "        if constraints(50, 5, cost, driver[\"Cost\"], num_drivers):\n",
    "            swap = compare(drivers, drivers_list, driver, total_points, cost)\n",
    "            if swap:\n",
    "                j, old_idx, new_score = swap\n",
    "                # Replace the old driver with the new one\n",
    "                old_driver = drivers.loc[old_idx]\n",
    "                cost = cost - old_driver[\"Cost\"] + driver_cost\n",
    "                total_points = new_score\n",
    "                drivers.at[old_idx, 'Included'] = False\n",
    "                drivers.at[i, 'Included'] = True\n",
    "                drivers_list[j] = (i, driver_name)\n",
    "        else:\n",
    "            cost += driver_cost\n",
    "            num_drivers += 1\n",
    "            total_points += driver_points\n",
    "            drivers.at[i, 'Included'] = True\n",
    "            drivers_list.append((i, driver_name))\n",
    "\n",
    "    return drivers_list, cost, num_drivers, total_points  # Or you can return the updated dataframe\n",
    "\n",
    "# To see the results:\n",
    "drivers_list, total_cost, num_drivers, total_points = redux_greedy_driver_select(drivers_df)\n",
    "print(drivers_list)\n",
    "print(f\"Total cost: {total_cost}, Number of drivers: {num_drivers}, Points: {total_points}\")\n"
   ]
  },
  {
   "cell_type": "code",
   "execution_count": null,
   "metadata": {},
   "outputs": [],
   "source": []
  },
  {
   "cell_type": "markdown",
   "metadata": {},
   "source": [
    "# D. Reintroducing Constructors\n",
    "\n",
    "We've been neglecting our constructors so far and cutting our budget. Let's make them feel included in our processes again. \n",
    "\n",
    "## Integer Program\n",
    "\n",
    "We should start by redefining our original IP to see what constraints we need to add. \\\n",
    "We've added some more variables to our IP: \n",
    "- $x_j$ is the decision variable that determines whether constructor $j$ is included in the team or not \n",
    "- $p_j$ is the # of points that constructor $j$ is worth\n",
    "- $c_j$ is the cost of constructor $j$\n",
    "\n",
    "Our budget has also been increased back to **100M**. "
   ]
  },
  {
   "cell_type": "markdown",
   "metadata": {},
   "source": [
    "\n",
    "$\\text{maximize} \\quad \\sum_{}^{}$  \\\n",
    "$\\text{subject to} \\quad $ \n"
   ]
  },
  {
   "cell_type": "markdown",
   "metadata": {},
   "source": [
    "## Constraints \n",
    "\n",
    "To redefine our greedy algorithm to include constructors, we have to also write helpers that correspond to our new constraints."
   ]
  },
  {
   "cell_type": "code",
   "execution_count": null,
   "metadata": {},
   "outputs": [],
   "source": [
    "budget = 100 # in millions\n",
    "\n",
    "# Replace with your code"
   ]
  },
  {
   "cell_type": "markdown",
   "metadata": {},
   "source": [
    "## Greedy Algorithm\n",
    "\n",
    "Update the greedy algorithm to calculate for buying both constructors and drivers. \\\n",
    "Remember, your list of non-increasing value-to-cost ratios should be a combination of both drivers & constructors. "
   ]
  },
  {
   "cell_type": "code",
   "execution_count": 5,
   "metadata": {},
   "outputs": [],
   "source": [
    "def greedy_f1(drivers, constructors):\n",
    "    # Replace with your code\n",
    "    pass"
   ]
  }
 ],
 "metadata": {
  "kernelspec": {
   "display_name": "Python 3",
   "language": "python",
   "name": "python3"
  },
  "language_info": {
   "codemirror_mode": {
    "name": "ipython",
    "version": 3
   },
   "file_extension": ".py",
   "mimetype": "text/x-python",
   "name": "python",
   "nbconvert_exporter": "python",
   "pygments_lexer": "ipython3",
   "version": "3.10.12"
  }
 },
 "nbformat": 4,
 "nbformat_minor": 2
}
