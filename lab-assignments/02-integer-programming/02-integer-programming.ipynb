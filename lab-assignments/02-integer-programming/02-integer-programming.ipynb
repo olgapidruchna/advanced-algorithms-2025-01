{
 "cells": [
  {
   "cell_type": "markdown",
   "metadata": {},
   "source": [
    "# Integer Programming Homework\n",
    "\n",
    "## Total: 40 Points\n",
    "\n",
    "This notebook guides you through solving various Integer Programming (IP) problems and implementations. \n",
    "Follow the instructions provided in each section, write the required code, and answer the questions.\n",
    "\n",
    "<em>NOTE: You should have the necessary setup from the LP Homework assignment."
   ]
  },
  {
   "cell_type": "markdown",
   "metadata": {},
   "source": [
    "# Question 1: Maya's Midnight March (10 points)\n",
    "Maya's SCOPE team realized that they need someone to go out at midnight wearing white to test the visibility of pedestrians on crosswalks. Maya, who loves her hikes, happily volunteered. She needs to pack light in order to hit all the crosswalks in Needham. \n",
    "\n",
    "The maximum weight she wants to carry is 15 lbs. Here are the different items she can bring and their importance for her SCOPE team's data collection: \n",
    "\n",
    "+ Reflective Vest: Weight = 2 lbs, Importance = 6\n",
    "+ Light Meter: Weight = 4 lbs, Importance = 12\n",
    "+ DSLR Camera: Weight = 10 lbs, Importance = 4 (They really don't want to take pictures)\n",
    "+ Notebook: Weight = 5 lbs, Importance = 8\n",
    "+ Police Baton: Weight = 9 lbs, Importance = 10\n",
    "\n",
    "### Formulate the IP\n",
    "First, start by setting up the IP similar to the other problems. Write the objective function to maximize the total value of items brought.\n",
    "\n",
    "Write the equations using LaTeX, between the $$ tags. Then convert the IP problem into code using this documentation: [PuLP Guide](https://realpython.com/linear-programming-python/#using-pulp). Using a binary variable ensures that only integer solutions are provided.\n",
    "\n",
    "#### Solution:\n",
    "Objective Function: $$ Z = 6x_1 + 12x_2 + 4x_3 + 8x_4 + 10x_5 $$ \n",
    "Constraint: $$ 2x_1 + 4x_2 + 10x_3 + 5x_4 + 9x_5 <= 15 $$ "
   ]
  },
  {
   "cell_type": "code",
   "execution_count": 2,
   "metadata": {},
   "outputs": [
    {
     "name": "stdout",
     "output_type": "stream",
     "text": [
      "Welcome to the CBC MILP Solver \n",
      "Version: 2.10.3 \n",
      "Build Date: Dec 15 2019 \n",
      "\n",
      "command line - /home/olga/.local/lib/python3.10/site-packages/pulp/solverdir/cbc/linux/64/cbc /tmp/47a8d1e4e64c4e49acbf6480a80f965e-pulp.mps -max -timeMode elapsed -branch -printingOptions all -solution /tmp/47a8d1e4e64c4e49acbf6480a80f965e-pulp.sol (default strategy 1)\n",
      "At line 2 NAME          MODEL\n",
      "At line 3 ROWS\n",
      "At line 6 COLUMNS\n",
      "At line 27 RHS\n",
      "At line 29 BOUNDS\n",
      "At line 35 ENDATA\n",
      "Problem MODEL has 1 rows, 5 columns and 5 elements\n",
      "Coin0008I MODEL read with 0 errors\n",
      "Option for timeMode changed from cpu to elapsed\n",
      "Continuous objective value is 30.4444 - 0.00 seconds\n",
      "Cgl0004I processed model has 1 rows, 5 columns (5 integer (5 of which binary)) and 5 elements\n",
      "Cutoff increment increased from 1e-05 to 1.9999\n",
      "Cbc0038I Initial state - 1 integers unsatisfied sum - 0.444444\n",
      "Cbc0038I Solution found of -26\n",
      "Cbc0038I Before mini branch and bound, 4 integers at bound fixed and 0 continuous\n",
      "Cbc0038I Full problem 1 rows 5 columns, reduced to 0 rows 0 columns\n",
      "Cbc0038I Mini branch and bound did not improve solution (0.00 seconds)\n",
      "Cbc0038I Round again with cutoff of -28.2444\n",
      "Cbc0038I Reduced cost fixing fixed 4 variables on major pass 2\n",
      "Cbc0038I After 0.00 seconds - Feasibility pump exiting with objective of -26 - took 0.00 seconds\n",
      "Cbc0012I Integer solution of -26 found by feasibility pump after 0 iterations and 0 nodes (0.00 seconds)\n",
      "Cbc0012I Integer solution of -28 found by DiveCoefficient after 0 iterations and 0 nodes (0.01 seconds)\n",
      "Cbc0013I At root node, 0 cuts changed objective from -30.444444 to -28 in 2 passes\n",
      "Cbc0014I Cut generator 0 (Probing) - 0 row cuts average 0.0 elements, 1 column cuts (1 active)  in 0.000 seconds - new frequency is 1\n",
      "Cbc0014I Cut generator 1 (Gomory) - 0 row cuts average 0.0 elements, 0 column cuts (0 active)  in 0.000 seconds - new frequency is -100\n",
      "Cbc0014I Cut generator 2 (Knapsack) - 0 row cuts average 0.0 elements, 0 column cuts (0 active)  in 0.000 seconds - new frequency is -100\n",
      "Cbc0014I Cut generator 3 (Clique) - 0 row cuts average 0.0 elements, 0 column cuts (0 active)  in 0.000 seconds - new frequency is -100\n",
      "Cbc0014I Cut generator 4 (MixedIntegerRounding2) - 0 row cuts average 0.0 elements, 0 column cuts (0 active)  in 0.000 seconds - new frequency is -100\n",
      "Cbc0014I Cut generator 5 (FlowCover) - 0 row cuts average 0.0 elements, 0 column cuts (0 active)  in 0.000 seconds - new frequency is -100\n",
      "Cbc0001I Search completed - best objective -28, took 0 iterations and 0 nodes (0.01 seconds)\n",
      "Cbc0035I Maximum depth 0, 3 variables fixed on reduced cost\n",
      "Cuts at root node changed objective from -30.4444 to -28\n",
      "Probing was tried 2 times and created 1 cuts of which 0 were active after adding rounds of cuts (0.000 seconds)\n",
      "Gomory was tried 2 times and created 0 cuts of which 0 were active after adding rounds of cuts (0.000 seconds)\n",
      "Knapsack was tried 2 times and created 0 cuts of which 0 were active after adding rounds of cuts (0.000 seconds)\n",
      "Clique was tried 2 times and created 0 cuts of which 0 were active after adding rounds of cuts (0.000 seconds)\n",
      "MixedIntegerRounding2 was tried 2 times and created 0 cuts of which 0 were active after adding rounds of cuts (0.000 seconds)\n",
      "FlowCover was tried 2 times and created 0 cuts of which 0 were active after adding rounds of cuts (0.000 seconds)\n",
      "TwoMirCuts was tried 1 times and created 0 cuts of which 0 were active after adding rounds of cuts (0.000 seconds)\n",
      "ZeroHalf was tried 1 times and created 0 cuts of which 0 were active after adding rounds of cuts (0.000 seconds)\n",
      "\n",
      "Result - Optimal solution found\n",
      "\n",
      "Objective value:                28.00000000\n",
      "Enumerated nodes:               0\n",
      "Total iterations:               0\n",
      "Time (CPU seconds):             0.01\n",
      "Time (Wallclock seconds):       0.01\n",
      "\n",
      "Option for printingOptions changed from normal to all\n",
      "Total time (CPU seconds):       0.01   (Wallclock seconds):       0.01\n",
      "\n"
     ]
    },
    {
     "data": {
      "text/plain": [
       "1"
      ]
     },
     "execution_count": 2,
     "metadata": {},
     "output_type": "execute_result"
    }
   ],
   "source": [
    "from pulp import *\n",
    "\n",
    "# Define the Problem\n",
    "model = LpProblem(name=\"mayas_march\", sense=LpMaximize) # type: ignore\n",
    "\n",
    "# Define the Variables\n",
    "# TODO: Define each of the decision variables here (each item). Remember to assign them as binary\n",
    "x1 = LpVariable(name=\"x1\", cat=\"Binary\")\n",
    "x2 = LpVariable(name=\"x2\", cat=\"Binary\")\n",
    "x3 = LpVariable(name=\"x3\",cat=\"Binary\")\n",
    "x4 = LpVariable(name=\"x4\", cat=\"Binary\")\n",
    "x5 = LpVariable(name=\"x5\", cat=\"Binary\")\n",
    "\n",
    "# Objective Function\n",
    "# TODO: Add objective function\n",
    "model += 6*x1 + 12*x2 + 4*x3 + 8*x4 + 10*x5\n",
    "\n",
    "# Constraints\n",
    "# TODO: Add the weight constraint\n",
    "model += 2*x1 + 4*x2 + 10*x3 + 5*x4 + 9*x5 <= 15\n",
    "\n",
    "# Solve the Model\n",
    "model.solve()"
   ]
  },
  {
   "cell_type": "code",
   "execution_count": 3,
   "metadata": {},
   "outputs": [
    {
     "name": "stdout",
     "output_type": "stream",
     "text": [
      "x1 1.0\n",
      "x2 1.0\n",
      "x3 0.0\n",
      "x4 0.0\n",
      "x5 1.0\n"
     ]
    }
   ],
   "source": [
    "# Print the solution\n",
    "for var in model.variables():\n",
    "    print(var.name, var.value())"
   ]
  },
  {
   "cell_type": "markdown",
   "metadata": {},
   "source": [
    "Solution: <em>Write the items selected below.</em>\n",
    "\n",
    "- Items selected: <b> Vest, light meter, baton </b>"
   ]
  },
  {
   "cell_type": "markdown",
   "metadata": {},
   "source": [
    "# Question 2: Branch And Bound (30 points)\n",
    "Branch and bound is one of the most common ways to solve optimization problems, including IP problems. It's a search algorithm that iteratively explores the space to find the optimal solution. \n",
    "\n",
    "Start by reading through this explanation: https://web.tecnico.ulisboa.pt/mcasquilho/compute/_linpro/TaylorB_module_c.pdf and writing pseudocode for the algorithm below. Then, we'll work through a scaffolded recursive implementation of the algorithm in Python. \n",
    "\n",
    "### Pseudocode\n",
    "\n",
    "### Implementation\n",
    "\n",
    "We start by defining our arrays for the system (c, A, b). c is an array of the coefficients of the objective function, and A and b are for each constraint. For example: \n",
    "\n",
    "$$ Z = 4x_1 + 3 x_2 + x_3$$\n",
    "$$ 3x_1 + 2x_2 + x_3 <= 7$$\n",
    "$$ 2x_1 + x_2 + 2x_3 <= 11$$\n",
    "\n",
    "From here, c = [4, 3, 1], A is [[3, 2, 1], [2, 1, 2]], and b is [7, 11]. \n",
    "\n",
    "If there are any upper or lower bounds on any variables, add those to the lb and ub list.\n",
    "\n",
    "\n",
    "- solve relaxed LP\n",
    "- if it's infeasible, prune?\n",
    "- if the optimal solution is integers, return!\n",
    "- select variable with greater fractional part and create two branches\n",
    "- one branch with new constraint variable >= variable rounded up\n",
    "- one branch with new constraint variable <= variable rounded down\n",
    "- recursibly call function on each branch?"
   ]
  },
  {
   "cell_type": "code",
   "execution_count": 25,
   "metadata": {},
   "outputs": [],
   "source": [
    "# Similar to the text, we'll have a function to find the relaxed solution of the IP (including decimal points)\n",
    "import scipy\n",
    "import numpy as np\n",
    "\n",
    "\"\"\"\n",
    "Python implementation of branch and bound algorithm for integer programming problems.\n",
    "\n",
    "Args:\n",
    "    c: array with objective function coefficients \n",
    "    A: 2D array with constraint coefficients\n",
    "    b: array with constraint values\n",
    "    lb: array with lower bound values for each variable\n",
    "    ub: array with upper bound values for each variable\n",
    "\n",
    "Returns: an array for values of each variable and the optimal objective function value\n",
    "\"\"\"\n",
    "def branch_and_bound(c, A, b, lb, ub):\n",
    "    optimized = scipy.optimize.linprog(-c, A, b, method=\"highs\", bounds=list(zip(lb, ub))) # Function to optimize current \n",
    "\n",
    "    x = optimized.x\n",
    "    z = optimized.fun\n",
    "\n",
    "    # TODO: First check if the problem is feasible or not (check if Z exists).\n",
    "    if z == None:\n",
    "        return [], 0\n",
    "    \n",
    "    # TODO: Then, check if the current variables are all integers or not. \n",
    "    all_integers = True\n",
    "    for num in x:\n",
    "        if num % 1 != 0:\n",
    "            all_integers = False\n",
    "    \n",
    "    # TODO: If all variables are integers, we have reached the solution \n",
    "    if all_integers:\n",
    "        return x, -z\n",
    "    \n",
    "    # Otherwise we need to branch the value with the most decimal difference similar to how the paper explained\n",
    "    else:\n",
    "        # TODO: Start by copying the lower bounds and upper bounds into new arrays. This is how we establish branching\n",
    "        left_lb = np.copy(lb)\n",
    "        left_up = np.copy(ub)\n",
    "\n",
    "        right_lb = np.copy(lb)\n",
    "        right_up = np.copy(ub)\n",
    "\n",
    "        # TODO: Find which variable has the maximum decimal difference and save the index (HINT: what math operation deals with remainders?)\n",
    "        max_difference_idx = None\n",
    "        max_frac = 0\n",
    "\n",
    "        for i, num in enumerate(x):\n",
    "            if num % 1 > max_frac:\n",
    "                max_difference_idx = i\n",
    "                max_frac = num % 1\n",
    "\n",
    "        # TODO: Set the upper and lower bounds based on branching at that variable (floor and ceiling)\n",
    "        left_up[max_difference_idx] = np.floor(x[max_difference_idx])\n",
    "        right_lb[max_difference_idx] = np.ceil(x[max_difference_idx])\n",
    "\n",
    "        # TODO: Recursively get values for the optimized solution of the left and right nodes\n",
    "        x_left, z_left = branch_and_bound(c, A, b, left_lb, left_up)\n",
    "        x_right, z_right = branch_and_bound(c, A, b, right_lb, right_up)\n",
    "\n",
    "        # TODO:Return the coefficients with the higher value of the two (HINT: This takes an if statement)\n",
    "        if z_left > z_right:\n",
    "            return x_left, z_left\n",
    "        return x_right, z_right\n"
   ]
  },
  {
   "cell_type": "markdown",
   "metadata": {},
   "source": [
    "Now, lets test the function you've written on the sample problem written above. "
   ]
  },
  {
   "cell_type": "code",
   "execution_count": 26,
   "metadata": {},
   "outputs": [
    {
     "name": "stdout",
     "output_type": "stream",
     "text": [
      "Variable\n",
      ">  x0 = 1.0\n",
      ">  x1 = 2.0\n",
      ">  x2 = 0.0\n",
      "Objective Function: 10.0\n"
     ]
    }
   ],
   "source": [
    "c = np.array([4, 3, 1])\n",
    "A = np.array([[3, 2, 1], [2, 1, 2]])\n",
    "b = np.array([7, 11])\n",
    "\n",
    "lb = np.array([0, 0, 0])\n",
    "ub = np.array([None, None, None])\n",
    "\n",
    "x, z = branch_and_bound(c, A, b, lb, ub)\n",
    "\n",
    "print(\"Variable\")\n",
    "for idx, var in enumerate(x): \n",
    "    print(f\">  x{idx} = {var}\")\n",
    "\n",
    "print(f\"Objective Function: {z}\")"
   ]
  },
  {
   "cell_type": "markdown",
   "metadata": {},
   "source": [
    "If correct, your solution should be x0 = 1, x1 = 2, and x2 = 0"
   ]
  }
 ],
 "metadata": {
  "kernelspec": {
   "display_name": "Python 3",
   "language": "python",
   "name": "python3"
  },
  "language_info": {
   "codemirror_mode": {
    "name": "ipython",
    "version": 3
   },
   "file_extension": ".py",
   "mimetype": "text/x-python",
   "name": "python",
   "nbconvert_exporter": "python",
   "pygments_lexer": "ipython3",
   "version": "3.10.12"
  }
 },
 "nbformat": 4,
 "nbformat_minor": 2
}
